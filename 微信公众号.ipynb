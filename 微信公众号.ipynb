{
 "cells": [
  {
   "cell_type": "markdown",
   "id": "e698e4c8",
   "metadata": {},
   "source": [
    "## 内容方向"
   ]
  },
  {
   "cell_type": "markdown",
   "id": "f1f645f0",
   "metadata": {},
   "source": [
    "- 技术随笔；\n",
    "- 工具推荐；\n",
    "- 工作、学习方法；"
   ]
  },
  {
   "cell_type": "markdown",
   "id": "07344535",
   "metadata": {},
   "source": [
    "## 一些思路"
   ]
  },
  {
   "cell_type": "markdown",
   "id": "cd4bea0e",
   "metadata": {},
   "source": [
    "- 1111：关于目标（objective）的讨论；\n",
    "    - 数量 => 质量；\n",
    "    - 发散 => 聚焦；"
   ]
  },
  {
   "cell_type": "markdown",
   "id": "875dd890",
   "metadata": {},
   "source": [
    "## 工具"
   ]
  },
  {
   "cell_type": "markdown",
   "id": "a26124a9",
   "metadata": {},
   "source": [
    "- markdown => 格式转换\n",
    "    - https://doocs.gitee.io/md/"
   ]
  }
 ],
 "metadata": {
  "kernelspec": {
   "display_name": "Python 3 (ipykernel)",
   "language": "python",
   "name": "python3"
  },
  "language_info": {
   "codemirror_mode": {
    "name": "ipython",
    "version": 3
   },
   "file_extension": ".py",
   "mimetype": "text/x-python",
   "name": "python",
   "nbconvert_exporter": "python",
   "pygments_lexer": "ipython3",
   "version": "3.10.9"
  },
  "toc": {
   "base_numbering": 1,
   "nav_menu": {},
   "number_sections": true,
   "sideBar": true,
   "skip_h1_title": false,
   "title_cell": "Table of Contents",
   "title_sidebar": "Contents",
   "toc_cell": false,
   "toc_position": {},
   "toc_section_display": true,
   "toc_window_display": false
  }
 },
 "nbformat": 4,
 "nbformat_minor": 5
}
