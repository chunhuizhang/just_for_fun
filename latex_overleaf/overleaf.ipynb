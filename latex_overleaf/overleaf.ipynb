{
 "cells": [
  {
   "cell_type": "markdown",
   "id": "99bd4951",
   "metadata": {},
   "source": [
    "## basics"
   ]
  },
  {
   "cell_type": "markdown",
   "id": "2a612292",
   "metadata": {},
   "source": [
    "- `\\ref` 引用的对象是 `\\label` 的内容；"
   ]
  },
  {
   "cell_type": "markdown",
   "id": "1e3ee47f",
   "metadata": {},
   "source": [
    "## Beamer "
   ]
  },
  {
   "cell_type": "markdown",
   "id": "95e6a872",
   "metadata": {},
   "source": [
    "- PPT 模板；"
   ]
  }
 ],
 "metadata": {
  "kernelspec": {
   "display_name": "Python 3 (ipykernel)",
   "language": "python",
   "name": "python3"
  },
  "language_info": {
   "codemirror_mode": {
    "name": "ipython",
    "version": 3
   },
   "file_extension": ".py",
   "mimetype": "text/x-python",
   "name": "python",
   "nbconvert_exporter": "python",
   "pygments_lexer": "ipython3",
   "version": "3.10.13"
  },
  "toc": {
   "base_numbering": 1,
   "nav_menu": {},
   "number_sections": true,
   "sideBar": true,
   "skip_h1_title": false,
   "title_cell": "Table of Contents",
   "title_sidebar": "Contents",
   "toc_cell": false,
   "toc_position": {},
   "toc_section_display": true,
   "toc_window_display": false
  }
 },
 "nbformat": 4,
 "nbformat_minor": 5
}
