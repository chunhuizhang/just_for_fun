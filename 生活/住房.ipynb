{
 "cells": [
  {
   "cell_type": "markdown",
   "id": "3ef8787c",
   "metadata": {},
   "source": [
    "## 指标"
   ]
  },
  {
   "cell_type": "markdown",
   "id": "82ef2865",
   "metadata": {},
   "source": [
    "- 容积率：小区的地上建筑总面积与净用地面积的比率。又称建筑面积毛密度。\n",
    "    - 小区级别的，非楼粒度；\n",
    "- 公摊：公摊建筑面积是指由整栋楼的产权人共同分摊所有的整栋楼公用部分的建筑面积。\n",
    "    - 一则套内面积（使用面积），即买房真正可以用的面积，一般这种面积都不会太多；\n",
    "    - 二则建筑面积（即套内面积+公摊面积），一般情况下开发商都会用建筑面积来计算价格"
   ]
  }
 ],
 "metadata": {
  "kernelspec": {
   "display_name": "Python 3 (ipykernel)",
   "language": "python",
   "name": "python3"
  },
  "language_info": {
   "codemirror_mode": {
    "name": "ipython",
    "version": 3
   },
   "file_extension": ".py",
   "mimetype": "text/x-python",
   "name": "python",
   "nbconvert_exporter": "python",
   "pygments_lexer": "ipython3",
   "version": "3.10.13"
  },
  "toc": {
   "base_numbering": 1,
   "nav_menu": {},
   "number_sections": true,
   "sideBar": true,
   "skip_h1_title": false,
   "title_cell": "Table of Contents",
   "title_sidebar": "Contents",
   "toc_cell": false,
   "toc_position": {},
   "toc_section_display": true,
   "toc_window_display": false
  }
 },
 "nbformat": 4,
 "nbformat_minor": 5
}
