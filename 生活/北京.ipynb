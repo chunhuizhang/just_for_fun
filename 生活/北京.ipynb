{
 "cells": [
  {
   "cell_type": "markdown",
   "id": "8c3a2d37-25a2-41c0-8209-2500da08db1b",
   "metadata": {},
   "source": [
    "## 必去"
   ]
  },
  {
   "cell_type": "markdown",
   "id": "b9184b0e-6410-48a5-afab-e53b2a8f637d",
   "metadata": {},
   "source": [
    "- 鸟巢\n",
    "    - 一定要购票从三个红旗的地方进去，\n",
    "        -  2层，5层，顶层（顶美上）\n",
    "        -  顶层非常非常壮观；"
   ]
  }
 ],
 "metadata": {
  "kernelspec": {
   "display_name": "Python 3 (ipykernel)",
   "language": "python",
   "name": "python3"
  },
  "language_info": {
   "codemirror_mode": {
    "name": "ipython",
    "version": 3
   },
   "file_extension": ".py",
   "mimetype": "text/x-python",
   "name": "python",
   "nbconvert_exporter": "python",
   "pygments_lexer": "ipython3",
   "version": "3.10.13"
  }
 },
 "nbformat": 4,
 "nbformat_minor": 5
}
