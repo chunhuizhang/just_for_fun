{
 "cells": [
  {
   "cell_type": "markdown",
   "id": "77d1b0a9",
   "metadata": {},
   "source": [
    "## 重疾险与医疗险"
   ]
  },
  {
   "cell_type": "markdown",
   "id": "47972c8c",
   "metadata": {},
   "source": [
    "- 重疾险为给付型，主要是用于弥补收入损失；\n",
    "- 医疗险为报销型，主要用于报销治疗费用；\n",
    "    - 医疗险：普通病房；\n",
    "    - 医疗险：普通病房、特需病房、VIP病房、国际病房；"
   ]
  }
 ],
 "metadata": {
  "kernelspec": {
   "display_name": "Python 3 (ipykernel)",
   "language": "python",
   "name": "python3"
  },
  "language_info": {
   "codemirror_mode": {
    "name": "ipython",
    "version": 3
   },
   "file_extension": ".py",
   "mimetype": "text/x-python",
   "name": "python",
   "nbconvert_exporter": "python",
   "pygments_lexer": "ipython3",
   "version": "3.10.13"
  },
  "toc": {
   "base_numbering": 1,
   "nav_menu": {},
   "number_sections": true,
   "sideBar": true,
   "skip_h1_title": false,
   "title_cell": "Table of Contents",
   "title_sidebar": "Contents",
   "toc_cell": false,
   "toc_position": {},
   "toc_section_display": true,
   "toc_window_display": false
  }
 },
 "nbformat": 4,
 "nbformat_minor": 5
}
