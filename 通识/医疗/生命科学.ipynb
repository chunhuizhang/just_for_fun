{
 "cells": [
  {
   "cell_type": "markdown",
   "id": "fa2a9b06",
   "metadata": {},
   "source": [
    "## 蛋白质"
   ]
  },
  {
   "cell_type": "markdown",
   "id": "7ea941e3",
   "metadata": {},
   "source": [
    "- 白蛋白和其他蛋白质都是由氨基酸通过肽键连接形成的长链分子。\n",
    "    - 病人术后缺乏营养时，挂吊瓶输液\n",
    "        - 氯化钠注射液\n",
    "        - 脂肪乳氨基酸(17)葡萄糖(11%)注射"
   ]
  },
  {
   "cell_type": "markdown",
   "id": "51a1c6c8",
   "metadata": {},
   "source": [
    "## 身体"
   ]
  },
  {
   "cell_type": "markdown",
   "id": "f25159e3",
   "metadata": {},
   "source": [
    "### 颅脑"
   ]
  },
  {
   "cell_type": "markdown",
   "id": "6dc3a073",
   "metadata": {},
   "source": [
    "- 脑干，垂体下丘脑结构"
   ]
  }
 ],
 "metadata": {
  "kernelspec": {
   "display_name": "Python 3 (ipykernel)",
   "language": "python",
   "name": "python3"
  },
  "language_info": {
   "codemirror_mode": {
    "name": "ipython",
    "version": 3
   },
   "file_extension": ".py",
   "mimetype": "text/x-python",
   "name": "python",
   "nbconvert_exporter": "python",
   "pygments_lexer": "ipython3",
   "version": "3.10.13"
  },
  "toc": {
   "base_numbering": 1,
   "nav_menu": {},
   "number_sections": true,
   "sideBar": true,
   "skip_h1_title": false,
   "title_cell": "Table of Contents",
   "title_sidebar": "Contents",
   "toc_cell": false,
   "toc_position": {},
   "toc_section_display": true,
   "toc_window_display": false
  }
 },
 "nbformat": 4,
 "nbformat_minor": 5
}
