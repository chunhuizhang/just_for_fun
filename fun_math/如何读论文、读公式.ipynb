{
 "cells": [
  {
   "cell_type": "markdown",
   "id": "7c929a05",
   "metadata": {},
   "source": [
    "- 把 $\\Sigma$ （summation） 理解为积分，对哪个变量或者 term 求 sum，就是关于谁求积分\n",
    "    - $\\Sigma_{x}$ 就是对 $x$ 求积分之意；"
   ]
  },
  {
   "cell_type": "markdown",
   "id": "e3650679",
   "metadata": {},
   "source": [
    "- 读论文\n",
    "    - 如果前面的概念公式过于抽象的话，不妨从实验（experiment）部分入手"
   ]
  }
 ],
 "metadata": {
  "kernelspec": {
   "display_name": "Python 3 (ipykernel)",
   "language": "python",
   "name": "python3"
  },
  "language_info": {
   "codemirror_mode": {
    "name": "ipython",
    "version": 3
   },
   "file_extension": ".py",
   "mimetype": "text/x-python",
   "name": "python",
   "nbconvert_exporter": "python",
   "pygments_lexer": "ipython3",
   "version": "3.10.9"
  },
  "toc": {
   "base_numbering": 1,
   "nav_menu": {},
   "number_sections": true,
   "sideBar": true,
   "skip_h1_title": false,
   "title_cell": "Table of Contents",
   "title_sidebar": "Contents",
   "toc_cell": false,
   "toc_position": {},
   "toc_section_display": true,
   "toc_window_display": false
  }
 },
 "nbformat": 4,
 "nbformat_minor": 5
}
