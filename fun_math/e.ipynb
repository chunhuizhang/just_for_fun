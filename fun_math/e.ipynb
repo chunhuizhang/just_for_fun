{
 "cells": [
  {
   "cell_type": "markdown",
   "id": "338b66f2",
   "metadata": {},
   "source": [
    "## 近似计算"
   ]
  },
  {
   "cell_type": "markdown",
   "id": "deab56d2",
   "metadata": {},
   "source": [
    "- 连续自然数阶乘的倒数求和；"
   ]
  },
  {
   "cell_type": "markdown",
   "id": "ee0a9598",
   "metadata": {},
   "source": [
    "$$\n",
    "\\begin{split}\n",
    "e&=\\frac{1}{0!}+\\frac{1}{1!}+\\frac{1}{2!}+\\frac{1}{3!}+\\cdots+\\\\\n",
    "&=\\sum_{k=0}\\frac{1}{k!}\n",
    "\\end{split}\n",
    "$$"
   ]
  },
  {
   "cell_type": "code",
   "execution_count": 1,
   "id": "d43ab71b",
   "metadata": {
    "ExecuteTime": {
     "end_time": "2023-10-04T06:03:56.022976Z",
     "start_time": "2023-10-04T06:03:56.014304Z"
    }
   },
   "outputs": [],
   "source": [
    "import math"
   ]
  },
  {
   "cell_type": "code",
   "execution_count": 2,
   "id": "2159e6f4",
   "metadata": {
    "ExecuteTime": {
     "end_time": "2023-10-04T06:04:27.192806Z",
     "start_time": "2023-10-04T06:04:27.189747Z"
    }
   },
   "outputs": [],
   "source": [
    "f = lambda n: sum(1/math.factorial(i) for i in range(n+1))"
   ]
  },
  {
   "cell_type": "code",
   "execution_count": 3,
   "id": "3106eb75",
   "metadata": {
    "ExecuteTime": {
     "end_time": "2023-10-04T06:04:28.987128Z",
     "start_time": "2023-10-04T06:04:28.975339Z"
    }
   },
   "outputs": [
    {
     "data": {
      "text/plain": [
       "2.7182818284590455"
      ]
     },
     "execution_count": 3,
     "metadata": {},
     "output_type": "execute_result"
    }
   ],
   "source": [
    "f(100)"
   ]
  },
  {
   "cell_type": "code",
   "execution_count": 4,
   "id": "04ab4716",
   "metadata": {
    "ExecuteTime": {
     "end_time": "2023-10-04T06:04:35.984157Z",
     "start_time": "2023-10-04T06:04:35.979027Z"
    }
   },
   "outputs": [
    {
     "data": {
      "text/plain": [
       "2.718281828459045"
      ]
     },
     "execution_count": 4,
     "metadata": {},
     "output_type": "execute_result"
    }
   ],
   "source": [
    "math.e"
   ]
  }
 ],
 "metadata": {
  "kernelspec": {
   "display_name": "Python 3 (ipykernel)",
   "language": "python",
   "name": "python3"
  },
  "language_info": {
   "codemirror_mode": {
    "name": "ipython",
    "version": 3
   },
   "file_extension": ".py",
   "mimetype": "text/x-python",
   "name": "python",
   "nbconvert_exporter": "python",
   "pygments_lexer": "ipython3",
   "version": "3.9.13"
  },
  "toc": {
   "base_numbering": 1,
   "nav_menu": {},
   "number_sections": true,
   "sideBar": true,
   "skip_h1_title": false,
   "title_cell": "Table of Contents",
   "title_sidebar": "Contents",
   "toc_cell": false,
   "toc_position": {},
   "toc_section_display": true,
   "toc_window_display": false
  }
 },
 "nbformat": 4,
 "nbformat_minor": 5
}
