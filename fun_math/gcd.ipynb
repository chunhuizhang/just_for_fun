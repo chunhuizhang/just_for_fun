{
 "cells": [
  {
   "cell_type": "markdown",
   "id": "face8a8d",
   "metadata": {},
   "source": [
    "Question: John has a rectangular garden, of which the length is 64 meters and the width is 48 meters. He wants to divide the garden into identical square sections, each with the largest possible area. What's the area of each section?"
   ]
  },
  {
   "cell_type": "code",
   "execution_count": 1,
   "id": "4a35b5a9",
   "metadata": {
    "ExecuteTime": {
     "end_time": "2024-03-14T14:45:17.119288Z",
     "start_time": "2024-03-14T14:45:17.102594Z"
    }
   },
   "outputs": [],
   "source": [
    "import math"
   ]
  },
  {
   "cell_type": "code",
   "execution_count": 2,
   "id": "a30eae30",
   "metadata": {
    "ExecuteTime": {
     "end_time": "2024-03-14T14:45:32.686694Z",
     "start_time": "2024-03-14T14:45:32.670388Z"
    }
   },
   "outputs": [
    {
     "data": {
      "text/plain": [
       "16"
      ]
     },
     "execution_count": 2,
     "metadata": {},
     "output_type": "execute_result"
    }
   ],
   "source": [
    "math.gcd(64, 48)"
   ]
  },
  {
   "cell_type": "code",
   "execution_count": 3,
   "id": "663b58a1",
   "metadata": {
    "ExecuteTime": {
     "end_time": "2024-03-14T14:45:35.424184Z",
     "start_time": "2024-03-14T14:45:35.414534Z"
    },
    "scrolled": true
   },
   "outputs": [
    {
     "data": {
      "text/plain": [
       "256"
      ]
     },
     "execution_count": 3,
     "metadata": {},
     "output_type": "execute_result"
    }
   ],
   "source": [
    "16*16"
   ]
  },
  {
   "cell_type": "code",
   "execution_count": 4,
   "id": "0024259b",
   "metadata": {
    "ExecuteTime": {
     "end_time": "2024-03-14T14:46:49.668424Z",
     "start_time": "2024-03-14T14:46:49.658420Z"
    }
   },
   "outputs": [
    {
     "data": {
      "text/plain": [
       "12.0"
      ]
     },
     "execution_count": 4,
     "metadata": {},
     "output_type": "execute_result"
    }
   ],
   "source": [
    "# 多少个\n",
    "(64/16) * (48/16)"
   ]
  }
 ],
 "metadata": {
  "kernelspec": {
   "display_name": "Python 3 (ipykernel)",
   "language": "python",
   "name": "python3"
  },
  "language_info": {
   "codemirror_mode": {
    "name": "ipython",
    "version": 3
   },
   "file_extension": ".py",
   "mimetype": "text/x-python",
   "name": "python",
   "nbconvert_exporter": "python",
   "pygments_lexer": "ipython3",
   "version": "3.10.13"
  },
  "toc": {
   "base_numbering": 1,
   "nav_menu": {},
   "number_sections": true,
   "sideBar": true,
   "skip_h1_title": false,
   "title_cell": "Table of Contents",
   "title_sidebar": "Contents",
   "toc_cell": false,
   "toc_position": {},
   "toc_section_display": true,
   "toc_window_display": false
  }
 },
 "nbformat": 4,
 "nbformat_minor": 5
}
