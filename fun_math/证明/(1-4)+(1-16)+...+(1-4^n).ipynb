{
 "cells": [
  {
   "cell_type": "code",
   "execution_count": 5,
   "id": "f85e852e",
   "metadata": {
    "ExecuteTime": {
     "end_time": "2024-01-24T13:30:21.760545Z",
     "start_time": "2024-01-24T13:30:21.680343Z"
    }
   },
   "outputs": [],
   "source": [
    "from IPython.display import SVG\n",
    "import requests"
   ]
  },
  {
   "cell_type": "markdown",
   "id": "4a3c61b3",
   "metadata": {},
   "source": [
    "- https://en.wikipedia.org/wiki/1/4_%2B_1/16_%2B_1/64_%2B_1/256_%2B_%E2%8B%AF"
   ]
  },
  {
   "cell_type": "markdown",
   "id": "97d6c414",
   "metadata": {},
   "source": [
    "## 1/4 + 1/16 + 1/64 + 1/256 + ⋯"
   ]
  },
  {
   "cell_type": "code",
   "execution_count": 31,
   "id": "702fa5c9",
   "metadata": {
    "ExecuteTime": {
     "end_time": "2024-01-24T13:46:21.481040Z",
     "start_time": "2024-01-24T13:46:20.862987Z"
    }
   },
   "outputs": [],
   "source": [
    "url='https://upload.wikimedia.org/wikipedia/commons/8/85/Geometric_series_14_square2.svg'\n",
    "response = requests.get(url)\n",
    "svg_data = response.text\n",
    "svg_data = svg_data.replace('<svg ', '<svg width=\"300\" height=\"300\" ')"
   ]
  },
  {
   "cell_type": "code",
   "execution_count": 32,
   "id": "e1ce43f5",
   "metadata": {
    "ExecuteTime": {
     "end_time": "2024-01-24T13:46:22.297004Z",
     "start_time": "2024-01-24T13:46:22.286750Z"
    },
    "scrolled": true
   },
   "outputs": [
    {
     "data": {
      "image/svg+xml": [
       "<svg xmlns=\"http://www.w3.org/2000/svg\" xmlns:xlink=\"http://www.w3.org/1999/xlink\" width=\"300\" height=\"300\" viewBox=\"-256 -256 256 256\" stroke=\"#000\" stroke-width=\".01\">\n",
       "<use xlink:href=\"#c\" transform=\"scale(16)\"/><g id=\"c\">\n",
       "<use xlink:href=\"#b\" transform=\"scale(4)\"/><g id=\"b\">\n",
       "<use xlink:href=\"#a\" transform=\"scale(2)\"/><g id=\"a\">\n",
       "<use xlink:href=\"#r\" transform=\"matrix(0,1 1,0 0,0)\" fill-opacity=\"0\"/>\n",
       "<path id=\"r\" d=\"M0-2h-1v1h1\" opacity=\".5\"/>\n",
       "<path d=\"M-1-2h-1v1h1\"/>\n",
       "</g>\n",
       "</g>\n",
       "</g>\n",
       "</svg>"
      ],
      "text/plain": [
       "<IPython.core.display.SVG object>"
      ]
     },
     "execution_count": 32,
     "metadata": {},
     "output_type": "execute_result"
    }
   ],
   "source": [
    "SVG(svg_data)"
   ]
  },
  {
   "cell_type": "markdown",
   "id": "baa5ebc5",
   "metadata": {},
   "source": [
    "- 灰色+黑色+白色=1\n",
    "- 灰色=黑色=白色\n",
    "- 灰色=黑色=白色=1/3"
   ]
  },
  {
   "cell_type": "markdown",
   "id": "c78d219f",
   "metadata": {},
   "source": [
    "## 3/4 + 3/16 + 3/64 + 3/256 + ⋯"
   ]
  },
  {
   "cell_type": "markdown",
   "id": "b82e703f",
   "metadata": {},
   "source": [
    "$$\n",
    "\\sum_{n=1}^\\infty \\frac3{4^n}=1\n",
    "$$"
   ]
  }
 ],
 "metadata": {
  "kernelspec": {
   "display_name": "Python 3 (ipykernel)",
   "language": "python",
   "name": "python3"
  },
  "language_info": {
   "codemirror_mode": {
    "name": "ipython",
    "version": 3
   },
   "file_extension": ".py",
   "mimetype": "text/x-python",
   "name": "python",
   "nbconvert_exporter": "python",
   "pygments_lexer": "ipython3",
   "version": "3.10.13"
  },
  "toc": {
   "base_numbering": 1,
   "nav_menu": {},
   "number_sections": true,
   "sideBar": true,
   "skip_h1_title": false,
   "title_cell": "Table of Contents",
   "title_sidebar": "Contents",
   "toc_cell": false,
   "toc_position": {},
   "toc_section_display": true,
   "toc_window_display": false
  }
 },
 "nbformat": 4,
 "nbformat_minor": 5
}
