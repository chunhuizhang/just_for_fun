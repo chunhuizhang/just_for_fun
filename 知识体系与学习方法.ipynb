{
 "cells": [
  {
   "cell_type": "markdown",
   "id": "79455208",
   "metadata": {},
   "source": [
    "- 知识体系：掌握原理，打好基础，查漏补缺；"
   ]
  },
  {
   "cell_type": "markdown",
   "id": "b0528b4a",
   "metadata": {},
   "source": [
    "## 知识体系的搭建"
   ]
  },
  {
   "cell_type": "markdown",
   "id": "aa481583",
   "metadata": {
    "ExecuteTime": {
     "end_time": "2023-10-22T04:32:16.919608Z",
     "start_time": "2023-10-22T04:32:16.897755Z"
    }
   },
   "source": [
    "\n",
    "- 记笔记，什么样的笔记是活的笔记，而不是死的，吃灰的；online的，数字化的，统一的；个人的经验不能是纸上的，最重要的就是容易丢；\n",
    "- github repos：一系列的 jupyter notebook：本地与远端，长期保存；知识要能复用，构建连接；\n",
    "    - interview notes；\n",
    "    - lc codes；\n",
    "    - 累积工具/工具代码片段；\n"
   ]
  },
  {
   "cell_type": "markdown",
   "id": "843bdc55",
   "metadata": {},
   "source": [
    "## 时间的管理与分配"
   ]
  },
  {
   "cell_type": "markdown",
   "id": "8a21221d",
   "metadata": {},
   "source": [
    "\n",
    "- 公司/工作时间；\n",
    "- 在家/自己的时间；\n",
    "- 周中/周末的时间；"
   ]
  }
 ],
 "metadata": {
  "kernelspec": {
   "display_name": "Python 3 (ipykernel)",
   "language": "python",
   "name": "python3"
  },
  "language_info": {
   "codemirror_mode": {
    "name": "ipython",
    "version": 3
   },
   "file_extension": ".py",
   "mimetype": "text/x-python",
   "name": "python",
   "nbconvert_exporter": "python",
   "pygments_lexer": "ipython3",
   "version": "3.10.9"
  },
  "toc": {
   "base_numbering": 1,
   "nav_menu": {},
   "number_sections": true,
   "sideBar": true,
   "skip_h1_title": false,
   "title_cell": "Table of Contents",
   "title_sidebar": "Contents",
   "toc_cell": false,
   "toc_position": {},
   "toc_section_display": true,
   "toc_window_display": false
  }
 },
 "nbformat": 4,
 "nbformat_minor": 5
}
