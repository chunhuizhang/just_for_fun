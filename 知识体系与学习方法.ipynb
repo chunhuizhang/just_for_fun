{
 "cells": [
  {
   "cell_type": "markdown",
   "id": "79455208",
   "metadata": {},
   "source": [
    "- 知识体系：掌握原理，打好基础，查漏补缺；"
   ]
  },
  {
   "cell_type": "markdown",
   "id": "b0528b4a",
   "metadata": {},
   "source": [
    "## 知识体系的搭建"
   ]
  },
  {
   "cell_type": "markdown",
   "id": "aa481583",
   "metadata": {
    "ExecuteTime": {
     "end_time": "2023-10-22T04:32:16.919608Z",
     "start_time": "2023-10-22T04:32:16.897755Z"
    }
   },
   "source": [
    "\n",
    "- 记笔记，什么样的笔记是活的笔记，而不是死的，吃灰的；online的，数字化的，统一的；个人的经验不能是纸上的，最重要的就是容易丢；\n",
    "- github repos：一系列的 jupyter notebook：本地与远端，长期保存；知识要能复用，构建连接；\n",
    "    - interview notes；\n",
    "    - lc codes；\n",
    "    - 累积工具/工具代码片段；\n"
   ]
  },
  {
   "cell_type": "markdown",
   "id": "907c5fae",
   "metadata": {},
   "source": [
    "## 学习的三个阶段"
   ]
  },
  {
   "cell_type": "markdown",
   "id": "c15324d1",
   "metadata": {},
   "source": [
    "\n",
    "系统性学习新知识的三个阶段\n",
    "- 不断掌握新的知识点，建立初步的感知；\n",
    "- 一小段时间之后如果没学，会发现只模模糊糊地有印象，觉得自己快忘完了；（这个阶段千万不要慌，不要急于否定自己）\n",
    "- 第三个阶段，重新review的话，会发现自己这次入手的时间是非常非常短的，也就是其实在第一阶段，自己已经内化消化了很多\n",
    "\n",
    "经过这样的三个阶段，知识才能进一步不断深化和加强，当然b/c的过程要不断循环累积；"
   ]
  },
  {
   "cell_type": "markdown",
   "id": "843bdc55",
   "metadata": {},
   "source": [
    "## 时间的管理与分配"
   ]
  },
  {
   "cell_type": "markdown",
   "id": "8a21221d",
   "metadata": {},
   "source": [
    "\n",
    "- 公司/工作时间；\n",
    "- 在家/自己的时间；\n",
    "- 周中/周末的时间；"
   ]
  },
  {
   "cell_type": "markdown",
   "id": "72dfa3a9",
   "metadata": {},
   "source": [
    "## 学习方法小 tricks"
   ]
  },
  {
   "cell_type": "markdown",
   "id": "90cab688",
   "metadata": {},
   "source": [
    "- 源码学习法\n",
    "    - llama2"
   ]
  },
  {
   "cell_type": "markdown",
   "id": "76168a0c",
   "metadata": {},
   "source": [
    "### gpt4 & gpt4v"
   ]
  },
  {
   "cell_type": "markdown",
   "id": "c1923427",
   "metadata": {},
   "source": [
    "- 有一说一啊，有gpt4 这么全面的工具，确实学习方法或者工作效率上，一个更有效率的事情，就是掌握基础和原理，尽可能多地 connect 知识，然后提出问题，trigger gpt了。\n",
    "- gpt4 写初步的代码有事半功倍的效果；\n",
    "    - 前提是自己能提出很好的问题，自己能发现 gpt4 回答的问题，然后逐步修改；"
   ]
  }
 ],
 "metadata": {
  "kernelspec": {
   "display_name": "Python 3 (ipykernel)",
   "language": "python",
   "name": "python3"
  },
  "language_info": {
   "codemirror_mode": {
    "name": "ipython",
    "version": 3
   },
   "file_extension": ".py",
   "mimetype": "text/x-python",
   "name": "python",
   "nbconvert_exporter": "python",
   "pygments_lexer": "ipython3",
   "version": "3.10.9"
  },
  "toc": {
   "base_numbering": 1,
   "nav_menu": {},
   "number_sections": true,
   "sideBar": true,
   "skip_h1_title": false,
   "title_cell": "Table of Contents",
   "title_sidebar": "Contents",
   "toc_cell": false,
   "toc_position": {},
   "toc_section_display": true,
   "toc_window_display": false
  }
 },
 "nbformat": 4,
 "nbformat_minor": 5
}
