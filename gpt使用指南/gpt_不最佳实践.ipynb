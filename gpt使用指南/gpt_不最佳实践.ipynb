{
 "cells": [
  {
   "cell_type": "markdown",
   "id": "36b78980",
   "metadata": {},
   "source": [
    "> 自然语言，编程语言，数学语言；"
   ]
  },
  {
   "cell_type": "markdown",
   "id": "10eeb78c",
   "metadata": {},
   "source": [
    "## 适合做什么"
   ]
  },
  {
   "cell_type": "markdown",
   "id": "a036a71d",
   "metadata": {},
   "source": [
    "- 工具/软件的使用\n",
    "    - vscode：\n",
    "        - `.vscode/launch.json`：配置"
   ]
  },
  {
   "cell_type": "markdown",
   "id": "74de8430",
   "metadata": {},
   "source": [
    "## coding 层面"
   ]
  },
  {
   "cell_type": "markdown",
   "id": "2f4dd7e7",
   "metadata": {},
   "source": [
    "- 工具代码\n",
    "    - 画图（参数）\n",
    "        - `sns.countplot` 的 `bar` 上写文字\n",
    "    - pandas 聚合分析；\n",
    "- 理解已有代码"
   ]
  },
  {
   "cell_type": "markdown",
   "id": "7080845d",
   "metadata": {},
   "source": [
    "## 数学"
   ]
  },
  {
   "cell_type": "markdown",
   "id": "7006df32",
   "metadata": {},
   "source": [
    "- 推到公式\n",
    "    - 协助读论文"
   ]
  },
  {
   "cell_type": "markdown",
   "id": "2f059ff0",
   "metadata": {},
   "source": [
    "## vision 能力"
   ]
  },
  {
   "cell_type": "markdown",
   "id": "3b9283cc",
   "metadata": {},
   "source": [
    "- 看药方；"
   ]
  }
 ],
 "metadata": {
  "kernelspec": {
   "display_name": "Python 3 (ipykernel)",
   "language": "python",
   "name": "python3"
  },
  "language_info": {
   "codemirror_mode": {
    "name": "ipython",
    "version": 3
   },
   "file_extension": ".py",
   "mimetype": "text/x-python",
   "name": "python",
   "nbconvert_exporter": "python",
   "pygments_lexer": "ipython3",
   "version": "3.10.13"
  },
  "toc": {
   "base_numbering": 1,
   "nav_menu": {},
   "number_sections": true,
   "sideBar": true,
   "skip_h1_title": false,
   "title_cell": "Table of Contents",
   "title_sidebar": "Contents",
   "toc_cell": false,
   "toc_position": {},
   "toc_section_display": true,
   "toc_window_display": false
  }
 },
 "nbformat": 4,
 "nbformat_minor": 5
}
