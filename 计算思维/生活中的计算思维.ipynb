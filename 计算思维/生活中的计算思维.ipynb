{
 "cells": [
  {
   "cell_type": "markdown",
   "id": "2150177b",
   "metadata": {},
   "source": [
    "- 跟银行各种金融理财产品打交道，跟新闻里的各种统计数据打交道\n"
   ]
  },
  {
   "cell_type": "markdown",
   "id": "5b82699b",
   "metadata": {},
   "source": [
    "## 生活中的计算概念"
   ]
  },
  {
   "cell_type": "markdown",
   "id": "bbde0bd8",
   "metadata": {},
   "source": [
    "- cache\n",
    "    - 把计算问题变为记忆问题\n",
    "    - 或者许多的训练 （training & practice），所谓的肌肉记忆\n",
    "\n",
    "- 经济：新闻中的统计数字；\n",
    "- 金融：跟银行打交道；\n",
    "\n",
    "- 迭代：\n",
    "    - 之前的输出，变为后来的输入；"
   ]
  },
  {
   "cell_type": "markdown",
   "id": "6a44df09",
   "metadata": {},
   "source": [
    "### 熵减：可持续发展"
   ]
  },
  {
   "cell_type": "markdown",
   "id": "329a9f00",
   "metadata": {},
   "source": [
    "- 熵减行为：时时勤拂拭，莫使惹尘埃。\n",
    "    - 屋子不打扫只会越来越乱。\n",
    "    - 且还存在剩饭难热的问题。"
   ]
  },
  {
   "cell_type": "markdown",
   "id": "1f77b259",
   "metadata": {},
   "source": [
    "## simulate & execute"
   ]
  },
  {
   "cell_type": "markdown",
   "id": "156cb35a",
   "metadata": {},
   "source": [
    "- 先simulate，再execute\n",
    "- simulate 一步，还是多步，\n",
    "    - 自然看得越远，越全局，越好；\n",
    "    - 取决于个人的经验，这里边又涉及，explore & exploit"
   ]
  }
 ],
 "metadata": {
  "kernelspec": {
   "display_name": "Python 3 (ipykernel)",
   "language": "python",
   "name": "python3"
  },
  "language_info": {
   "codemirror_mode": {
    "name": "ipython",
    "version": 3
   },
   "file_extension": ".py",
   "mimetype": "text/x-python",
   "name": "python",
   "nbconvert_exporter": "python",
   "pygments_lexer": "ipython3",
   "version": "3.10.9"
  },
  "toc": {
   "base_numbering": 1,
   "nav_menu": {},
   "number_sections": true,
   "sideBar": true,
   "skip_h1_title": false,
   "title_cell": "Table of Contents",
   "title_sidebar": "Contents",
   "toc_cell": false,
   "toc_position": {},
   "toc_section_display": true,
   "toc_window_display": false
  }
 },
 "nbformat": 4,
 "nbformat_minor": 5
}
