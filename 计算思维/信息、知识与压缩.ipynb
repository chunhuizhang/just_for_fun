{
 "cells": [
  {
   "cell_type": "markdown",
   "id": "cdc8b2ae-d05a-4744-ab1d-dc623be1ea53",
   "metadata": {},
   "source": [
    "### 成语"
   ]
  },
  {
   "cell_type": "markdown",
   "id": "65f9f3e2-e607-4575-8f24-c6155d19d79f",
   "metadata": {},
   "source": [
    "中文成语之类不算是压缩，而是一种哈希表，让你记住键值对（key-value pair），然后只保留键。也可以说是中文密码本（codebook），成语就是密码，成语故事就是密码对应的内容，我们从小就要背密码本所以一看密码就知道对应的内容"
   ]
  }
 ],
 "metadata": {
  "kernelspec": {
   "display_name": "Python 3 (ipykernel)",
   "language": "python",
   "name": "python3"
  },
  "language_info": {
   "codemirror_mode": {
    "name": "ipython",
    "version": 3
   },
   "file_extension": ".py",
   "mimetype": "text/x-python",
   "name": "python",
   "nbconvert_exporter": "python",
   "pygments_lexer": "ipython3",
   "version": "3.10.13"
  }
 },
 "nbformat": 4,
 "nbformat_minor": 5
}
