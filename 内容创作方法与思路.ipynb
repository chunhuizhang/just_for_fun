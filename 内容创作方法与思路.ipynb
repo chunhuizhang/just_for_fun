{
 "cells": [
  {
   "cell_type": "markdown",
   "id": "dd438fb8",
   "metadata": {},
   "source": [
    "## 基本想法"
   ]
  },
  {
   "cell_type": "markdown",
   "id": "e137fc4e",
   "metadata": {},
   "source": [
    "- 内容创作的过程其实就是整理/输出的过程；\n",
    "    - 内容输出的形式可以是文章、音频和视频；\n",
    "    - 但对于输出而言，没有输入是不可能有输出的，这在我看来是内容创作的第一定律；"
   ]
  },
  {
   "cell_type": "markdown",
   "id": "89ae0f3f",
   "metadata": {},
   "source": [
    "## 基本方法"
   ]
  },
  {
   "cell_type": "markdown",
   "id": "93c63bf5",
   "metadata": {},
   "source": [
    "- 持续积累\n",
    "    - 每一个要做的内容/话题/方向，都像是一个个的房间，内容创作/整理/输入的过程就像是往最开始空置的只有标题（房间名）的房间里边塞东西；\n",
    "    - 等到房间满了的，塞不下、全面且结构化的事后，就是可以输出的时候；\n",
    "- 一篇文章/视频，输出的过程也许会特别快，但并不意味着其从开始到输出的过程特别短；\n",
    "    - 灵光一闪的只会是一个 idea，它只会一篇文章的核心思路，甚至只是一个段落，整篇文章的血肉还是需要靠思索，靠累积，靠时间持续地丰满；"
   ]
  },
  {
   "cell_type": "markdown",
   "id": "6f784307",
   "metadata": {},
   "source": [
    "### 累积"
   ]
  },
  {
   "cell_type": "markdown",
   "id": "4bfd54de",
   "metadata": {},
   "source": [
    "- 一直在打腹稿，一直在飞书做记录（突然的所思所想）"
   ]
  }
 ],
 "metadata": {
  "kernelspec": {
   "display_name": "Python 3 (ipykernel)",
   "language": "python",
   "name": "python3"
  },
  "language_info": {
   "codemirror_mode": {
    "name": "ipython",
    "version": 3
   },
   "file_extension": ".py",
   "mimetype": "text/x-python",
   "name": "python",
   "nbconvert_exporter": "python",
   "pygments_lexer": "ipython3",
   "version": "3.10.9"
  },
  "toc": {
   "base_numbering": 1,
   "nav_menu": {},
   "number_sections": true,
   "sideBar": true,
   "skip_h1_title": false,
   "title_cell": "Table of Contents",
   "title_sidebar": "Contents",
   "toc_cell": false,
   "toc_position": {},
   "toc_section_display": true,
   "toc_window_display": false
  }
 },
 "nbformat": 4,
 "nbformat_minor": 5
}
