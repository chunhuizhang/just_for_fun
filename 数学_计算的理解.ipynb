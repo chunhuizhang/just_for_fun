{
 "cells": [
  {
   "cell_type": "markdown",
   "id": "008bc557",
   "metadata": {},
   "source": [
    "## 关于概率"
   ]
  },
  {
   "cell_type": "markdown",
   "id": "6ed97455",
   "metadata": {},
   "source": [
    "- one hot encoding：也是一种特殊的概率分布；\n",
    "    - 对于分类问题，概率化版本的特例，即某一个类别概率为1，其他为0；"
   ]
  }
 ],
 "metadata": {
  "kernelspec": {
   "display_name": "Python 3 (ipykernel)",
   "language": "python",
   "name": "python3"
  },
  "language_info": {
   "codemirror_mode": {
    "name": "ipython",
    "version": 3
   },
   "file_extension": ".py",
   "mimetype": "text/x-python",
   "name": "python",
   "nbconvert_exporter": "python",
   "pygments_lexer": "ipython3",
   "version": "3.10.13"
  },
  "toc": {
   "base_numbering": 1,
   "nav_menu": {},
   "number_sections": true,
   "sideBar": true,
   "skip_h1_title": false,
   "title_cell": "Table of Contents",
   "title_sidebar": "Contents",
   "toc_cell": false,
   "toc_position": {},
   "toc_section_display": true,
   "toc_window_display": false
  }
 },
 "nbformat": 4,
 "nbformat_minor": 5
}
