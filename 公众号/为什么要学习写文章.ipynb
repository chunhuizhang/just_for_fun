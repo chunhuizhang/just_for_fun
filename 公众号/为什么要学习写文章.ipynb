{
 "cells": [
  {
   "cell_type": "markdown",
   "id": "f84ca012",
   "metadata": {},
   "source": [
    "- 结构化整理自己的思路\n",
    "- 写得越多，才会写得越快/越顺；\n",
    "    - 像乐器一样，需要日常的练习，对于写作而言，就是笔耕不辍"
   ]
  }
 ],
 "metadata": {
  "kernelspec": {
   "display_name": "Python 3 (ipykernel)",
   "language": "python",
   "name": "python3"
  },
  "language_info": {
   "codemirror_mode": {
    "name": "ipython",
    "version": 3
   },
   "file_extension": ".py",
   "mimetype": "text/x-python",
   "name": "python",
   "nbconvert_exporter": "python",
   "pygments_lexer": "ipython3",
   "version": "3.10.9"
  },
  "toc": {
   "base_numbering": 1,
   "nav_menu": {},
   "number_sections": true,
   "sideBar": true,
   "skip_h1_title": false,
   "title_cell": "Table of Contents",
   "title_sidebar": "Contents",
   "toc_cell": false,
   "toc_position": {},
   "toc_section_display": true,
   "toc_window_display": false
  }
 },
 "nbformat": 4,
 "nbformat_minor": 5
}
