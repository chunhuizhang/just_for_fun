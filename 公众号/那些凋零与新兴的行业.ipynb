{
 "cells": [
  {
   "cell_type": "markdown",
   "id": "9689e4c3",
   "metadata": {},
   "source": [
    "> 授人以鱼，不如授人以渔；\\\n",
    "> 有时候打开一些视频或技术网站，那些直白浅显的，不需要太多深入思考和理解的内容，真的是早晚会被扫进垃圾堆里；\\\n",
    "> 内容行业：需要深度思考；"
   ]
  },
  {
   "cell_type": "markdown",
   "id": "54b13db0",
   "metadata": {},
   "source": [
    "## 凋零"
   ]
  },
  {
   "cell_type": "markdown",
   "id": "695e73ea",
   "metadata": {},
   "source": [
    "- 客服\n",
    "- 咨询\n",
    "- 入门级科普"
   ]
  },
  {
   "cell_type": "markdown",
   "id": "5ad1e4e9",
   "metadata": {},
   "source": [
    "## 新兴"
   ]
  },
  {
   "cell_type": "markdown",
   "id": "b3f31ee8",
   "metadata": {},
   "source": [
    "- 新工具的使用；\n",
    "- 新闻，时效性的内容的沉淀和分发；"
   ]
  },
  {
   "cell_type": "markdown",
   "id": "155510d8",
   "metadata": {},
   "source": [
    "## 编程"
   ]
  },
  {
   "cell_type": "markdown",
   "id": "12e681b1",
   "metadata": {},
   "source": [
    "- 那些各个包的 cookbook，api 指南还需要吗？\n",
    "    - 比如 numpy、pandas、sklearn；\n",
    "    - 似乎这些框架的开发者只需要维护一个较全的使用指南和api接口说明即可；"
   ]
  }
 ],
 "metadata": {
  "kernelspec": {
   "display_name": "Python 3 (ipykernel)",
   "language": "python",
   "name": "python3"
  },
  "language_info": {
   "codemirror_mode": {
    "name": "ipython",
    "version": 3
   },
   "file_extension": ".py",
   "mimetype": "text/x-python",
   "name": "python",
   "nbconvert_exporter": "python",
   "pygments_lexer": "ipython3",
   "version": "3.10.9"
  },
  "toc": {
   "base_numbering": 1,
   "nav_menu": {},
   "number_sections": true,
   "sideBar": true,
   "skip_h1_title": false,
   "title_cell": "Table of Contents",
   "title_sidebar": "Contents",
   "toc_cell": false,
   "toc_position": {},
   "toc_section_display": true,
   "toc_window_display": false
  }
 },
 "nbformat": 4,
 "nbformat_minor": 5
}
