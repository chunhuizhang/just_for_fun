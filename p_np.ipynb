{
 "cells": [
  {
   "cell_type": "code",
   "execution_count": 2,
   "id": "fa487c97",
   "metadata": {
    "ExecuteTime": {
     "end_time": "2023-11-20T14:59:30.177896Z",
     "start_time": "2023-11-20T14:59:30.170411Z"
    }
   },
   "outputs": [],
   "source": [
    "from IPython.display import SVG"
   ]
  },
  {
   "cell_type": "markdown",
   "id": "a9405e30",
   "metadata": {},
   "source": [
    "## basics"
   ]
  },
  {
   "cell_type": "markdown",
   "id": "45fed30a",
   "metadata": {},
   "source": [
    "- P：存在多项式求解算法的问题；(P (Polynomial Time))\n",
    "- NP：多项式时间可以验证一个解的问题； (Nondeterministic Polynomial Time)\n",
    "    - 旅行商问题、图着色问题。\n",
    "    - 在 p != np 的时候，显然 p 是属于 np的子集；\n",
    "- NP-complete: Nondeterministic Polynomial Complete\n",
    "    - NP-complete 类包括最难的 NP 问题，它们在 NP 中，并且**每个 NP 问题**都可以多项式时间归约到这些问题上。这意味着如果我们能找到一个 NP-complete 问题的多项式时间解决方案，那么每个 NP 问题都有一个多项式时间的解决方案\n",
    "    - 旅行商问题、SAT 问题。\n",
    "- NP-hard: (Nondeterministic Polynomial Hard)\n",
    "    - 停机问题、图的完美匹配问题。"
   ]
  },
  {
   "cell_type": "markdown",
   "id": "85ba7bd7",
   "metadata": {},
   "source": [
    "## $O(\\log n)$"
   ]
  },
  {
   "cell_type": "markdown",
   "id": "2cbdd10e",
   "metadata": {},
   "source": [
    "\n",
    "- 对于任何正整数 $k$，对数函数 $\\log n$ 总是比多项式 $n^k$ 增长得慢。因此，$O(logn)$ 被视为比多项式时间更有效率的算法类别。\n",
    "- An algorithm is said to be of polynomial time if its running time is upper bounded by a polynomial expression in the size of the input for the algorithm."
   ]
  },
  {
   "cell_type": "code",
   "execution_count": 9,
   "id": "26b07d7d",
   "metadata": {
    "ExecuteTime": {
     "end_time": "2023-11-20T15:15:57.161050Z",
     "start_time": "2023-11-20T15:15:56.978922Z"
    }
   },
   "outputs": [
    {
     "name": "stderr",
     "output_type": "stream",
     "text": [
      "/tmp/ipykernel_296184/4077982323.py:6: RuntimeWarning: divide by zero encountered in log\n",
      "  plt.plot(x, np.log(x))\n"
     ]
    },
    {
     "data": {
      "text/plain": [
       "[<matplotlib.lines.Line2D at 0x7fd3e10c0400>]"
      ]
     },
     "execution_count": 9,
     "metadata": {},
     "output_type": "execute_result"
    },
    {
     "data": {
      "image/png": "[encoded data removed]",
      "text/plain": [
       "<Figure size 640x480 with 1 Axes>"
      ]
     },
     "metadata": {},
     "output_type": "display_data"
    }
   ],
   "source": [
    "import numpy as np\n",
    "import matplotlib.pyplot as plt\n",
    "\n",
    "x = np.arange(0, 10, 0.5)\n",
    "plt.plot(x, x)\n",
    "plt.plot(x, np.log(x))"
   ]
  },
  {
   "cell_type": "code",
   "execution_count": 5,
   "id": "96c2874f",
   "metadata": {
    "ExecuteTime": {
     "end_time": "2023-11-20T15:00:06.280577Z",
     "start_time": "2023-11-20T15:00:03.862091Z"
    }
   },
   "outputs": [
    {
     "data": {
      "image/svg+xml": [
       "<svg xmlns:dc=\"http://purl.org/dc/elements/1.1/\" xmlns:cc=\"http://creativecommons.org/ns#\" xmlns:rdf=\"http://www.w3.org/1999/02/22-rdf-syntax-ns#\" xmlns:svg=\"http://www.w3.org/2000/svg\" xmlns=\"http://www.w3.org/2000/svg\" version=\"1.0\" width=\"800\" height=\"500\" id=\"svg2\">\n",
       "  <defs id=\"defs\">\n",
       "    <marker refX=\"0\" refY=\"0\" orient=\"auto\" id=\"Arrow1Lend\" style=\"overflow:visible\">\n",
       "      <path d=\"M 0,0 5,-5 -12.5,0 5,5 0,0 z\" transform=\"matrix(-0.8,0,0,-0.8,-10,0)\" id=\"path3951\" style=\"fill-rule:evenodd;stroke:#000000;stroke-width:1pt;marker-start:none\"/>\n",
       "    </marker>\n",
       "  </defs>\n",
       "  <metadata id=\"metadata\">\n",
       "    <rdf:RDF>\n",
       "      <cc:Work rdf:about=\"\">\n",
       "        <dc:format>image/svg+xml</dc:format>\n",
       "        <dc:type rdf:resource=\"http://purl.org/dc/dcmitype/StillImage\"/>\n",
       "        <dc:title/>\n",
       "      </cc:Work>\n",
       "    </rdf:RDF>\n",
       "  </metadata>\n",
       "  <g transform=\"translate(0,-244.09451)\" id=\"layer1\">\n",
       "    <g id=\"axes\">\n",
       "      <path d=\"m 400,743.74706 0,-490.32139 0,-8.9837\" id=\"axis-v\" style=\"fill:#babdb6;fill-rule:evenodd;stroke:#000000;stroke-width:1;stroke-linecap:butt;stroke-linejoin:miter;stroke-miterlimit:4;stroke-opacity:1;stroke-dasharray:none;stroke-dashoffset:0;marker-mid:url(#Arrow1Lend);marker-end:none\"/>\n",
       "      <switch style=\"font-size:12.83532333px;font-style:normal;font-variant:normal;font-weight:normal;font-stretch:normal;text-align:center;line-height:125%;writing-mode:lr-tb;text-anchor:middle;fill:#000000;fill-opacity:1;stroke:none;font-family:Bitstream Vera Sans\"><text x=\"-604.09448\" y=\"394.52811\" transform=\"matrix(0,-1,1,0,0,0)\" id=\"complexity-ro\" xml:space=\"preserve\" style=\"font-size:12.83532333px;font-style:normal;font-variant:normal;font-weight:normal;font-stretch:normal;text-align:center;line-height:125%;writing-mode:lr-tb;text-anchor:middle;fill:#000000;fill-opacity:1;stroke:none;font-family:Bitstream Vera Sans\" systemLanguage=\"ro\"><tspan x=\"-604.09448\" y=\"394.52811\" id=\"tspan4945-ro\">Complexitate</tspan></text><text x=\"-604.09448\" y=\"394.52811\" transform=\"matrix(0,-1,1,0,0,0)\" id=\"complexity\" xml:space=\"preserve\" style=\"font-size:12.83532333px;font-style:normal;font-variant:normal;font-weight:normal;font-stretch:normal;text-align:center;line-height:125%;writing-mode:lr-tb;text-anchor:middle;fill:#000000;fill-opacity:1;stroke:none;font-family:Bitstream Vera Sans\"><tspan x=\"-604.09448\" y=\"394.52811\" id=\"tspan4945\">Complexity</tspan></text></switch>\n",
       "      <path d=\"m 0,644.09451 800,0\" id=\"axis-h\" style=\"fill:none;stroke:#000000;stroke-width:1;stroke-linecap:butt;stroke-linejoin:miter;stroke-miterlimit:4;stroke-opacity:1;stroke-dasharray:1, 6;stroke-dashoffset:0\"/>\n",
       "    </g>\n",
       "    <switch style=\"font-size:24px;font-style:normal;font-variant:normal;font-weight:normal;font-stretch:normal;text-align:center;line-height:125%;writing-mode:lr-tb;text-anchor:middle;fill:#000000;fill-opacity:1;stroke:none;font-family:Serif;-inkscape-font-specification:Serif\"><text x=\"199.77734\" y=\"703.30811\" id=\"neq-math-ro\" xml:space=\"preserve\" style=\"font-size:24px;font-style:normal;font-variant:normal;font-weight:normal;font-stretch:normal;text-align:center;line-height:125%;writing-mode:lr-tb;text-anchor:middle;fill:#000000;fill-opacity:1;stroke:none;font-family:Serif;-inkscape-font-specification:Serif\" systemLanguage=\"ro\"><tspan x=\"199.77734\" y=\"703.30811\" id=\"tspan3330-ro\">P ≠ NP</tspan></text><text x=\"199.77734\" y=\"703.30811\" id=\"neq-math\" xml:space=\"preserve\" style=\"font-size:24px;font-style:normal;font-variant:normal;font-weight:normal;font-stretch:normal;text-align:center;line-height:125%;writing-mode:lr-tb;text-anchor:middle;fill:#000000;fill-opacity:1;stroke:none;font-family:Serif;-inkscape-font-specification:Serif\"><tspan x=\"199.77734\" y=\"703.30811\" id=\"tspan3330\">P ≠ NP</tspan></text></switch>\n",
       "    <switch style=\"font-size:24px;font-style:normal;font-variant:normal;font-weight:normal;font-stretch:normal;text-align:center;line-height:125%;writing-mode:lr-tb;text-anchor:middle;fill:#000000;fill-opacity:1;stroke:none;font-family:Serif;-inkscape-font-specification:Serif\"><text x=\"599.77734\" y=\"703.30811\" id=\"eq-math-ro\" xml:space=\"preserve\" style=\"font-size:24px;font-style:normal;font-variant:normal;font-weight:normal;font-stretch:normal;text-align:center;line-height:125%;writing-mode:lr-tb;text-anchor:middle;fill:#000000;fill-opacity:1;stroke:none;font-family:Serif;-inkscape-font-specification:Serif\" systemLanguage=\"ro\"><tspan x=\"599.77734\" y=\"703.30811\" id=\"tspan3358-ro\">P = NP</tspan></text><text x=\"599.77734\" y=\"703.30811\" id=\"eq-math\" xml:space=\"preserve\" style=\"font-size:24px;font-style:normal;font-variant:normal;font-weight:normal;font-stretch:normal;text-align:center;line-height:125%;writing-mode:lr-tb;text-anchor:middle;fill:#000000;fill-opacity:1;stroke:none;font-family:Serif;-inkscape-font-specification:Serif\"><tspan x=\"599.77734\" y=\"703.30811\" id=\"tspan3358\">P = NP</tspan></text></switch>\n",
       "    <g id=\"neq-diag\">\n",
       "      <path d=\"m 284.25694,339.62939 a 168.29141,168.29141 0 1 1 -336.58283,0 168.29141,168.29141 0 1 1 336.58283,0 z\" transform=\"matrix(0.73561878,0,0,0.73561878,114.69358,269.45843)\" id=\"path3134\" style=\"fill:none;stroke:#000000;stroke-width:2.71879959;stroke-miterlimit:4;stroke-opacity:1;stroke-dasharray:none;stroke-dashoffset:0\"/>\n",
       "      <path d=\"m 40,244.09451 c 0,140 60,260 160,260 100,0 160,-120 160,-260\" id=\"path3332\" style=\"fill:none;stroke:#000000;stroke-width:1;stroke-linecap:butt;stroke-linejoin:miter;stroke-miterlimit:4;stroke-opacity:1;stroke-dasharray:none;stroke-dashoffset:0;marker-mid:none;marker-end:none\"/>\n",
       "      <switch style=\"font-size:22.50210381px;font-style:normal;font-variant:normal;font-weight:normal;font-stretch:normal;text-align:center;line-height:125%;writing-mode:lr-tb;text-anchor:middle;fill:#000000;fill-opacity:1;stroke:none;font-family:Bitstream Vera Sans\"><text x=\"199.91759\" y=\"333.68689\" id=\"text3334-ro\" xml:space=\"preserve\" style=\"font-size:22.50210381px;font-style:normal;font-variant:normal;font-weight:normal;font-stretch:normal;text-align:center;line-height:125%;writing-mode:lr-tb;text-anchor:middle;fill:#000000;fill-opacity:1;stroke:none;font-family:Bitstream Vera Sans\" systemLanguage=\"ro\"><tspan x=\"199.91759\" y=\"333.68689\" id=\"tspan3336-ro\">NP-tari</tspan></text><text x=\"199.91759\" y=\"333.68689\" id=\"text3334\" xml:space=\"preserve\" style=\"font-size:22.50210381px;font-style:normal;font-variant:normal;font-weight:normal;font-stretch:normal;text-align:center;line-height:125%;writing-mode:lr-tb;text-anchor:middle;fill:#000000;fill-opacity:1;stroke:none;font-family:Bitstream Vera Sans\"><tspan x=\"199.91759\" y=\"333.68689\" id=\"tspan3336\">NP-Hard</tspan></text></switch>\n",
       "      <switch style=\"font-size:22.50210381px;font-style:normal;font-variant:normal;font-weight:normal;font-stretch:normal;text-align:center;line-height:125%;writing-mode:lr-tb;text-anchor:middle;fill:#000000;fill-opacity:1;stroke:none;font-family:Bitstream Vera Sans\"><text x=\"199.49458\" y=\"459.33737\" id=\"text3338-ro\" xml:space=\"preserve\" style=\"font-size:22.50210381px;font-style:normal;font-variant:normal;font-weight:normal;font-stretch:normal;text-align:center;line-height:125%;writing-mode:lr-tb;text-anchor:middle;fill:#000000;fill-opacity:1;stroke:none;font-family:Bitstream Vera Sans\" systemLanguage=\"ro\"><tspan x=\"199.49458\" y=\"459.33737\" id=\"tspan3340-ro\">NP-complete</tspan></text><text x=\"199.49458\" y=\"459.33737\" id=\"text3338\" xml:space=\"preserve\" style=\"font-size:22.50210381px;font-style:normal;font-variant:normal;font-weight:normal;font-stretch:normal;text-align:center;line-height:125%;writing-mode:lr-tb;text-anchor:middle;fill:#000000;fill-opacity:1;stroke:none;font-family:Bitstream Vera Sans\"><tspan x=\"199.49458\" y=\"459.33737\" id=\"tspan3340\">NP-Complete</tspan></text></switch>\n",
       "      <path d=\"m 336.61418,345.47244 a 97.440948,62.007874 0 1 1 -194.8819,0 97.440948,62.007874 0 1 1 194.8819,0 z\" transform=\"matrix(0.84440268,0,0,0.76872578,-1.958519,329.77868)\" id=\"path3344\" style=\"fill:none;stroke:#000000;stroke-width:2.48238683;stroke-miterlimit:4;stroke-opacity:1;stroke-dasharray:2.48238675, 2.48238675;stroke-dashoffset:0\"/>\n",
       "      <switch style=\"font-size:22.50210381px;font-style:normal;font-variant:normal;font-weight:normal;font-stretch:normal;text-align:center;line-height:125%;writing-mode:lr-tb;text-anchor:middle;fill:#000000;fill-opacity:1;stroke:none;font-family:Bitstream Vera Sans\"><text x=\"199.28583\" y=\"603.55432\" id=\"text3346-ro\" xml:space=\"preserve\" style=\"font-size:22.50210381px;font-style:normal;font-variant:normal;font-weight:normal;font-stretch:normal;text-align:center;line-height:125%;writing-mode:lr-tb;text-anchor:middle;fill:#000000;fill-opacity:1;stroke:none;font-family:Bitstream Vera Sans\" systemLanguage=\"ro\"><tspan x=\"199.28583\" y=\"603.55432\" id=\"tspan3348-ro\">P</tspan></text><text x=\"199.28583\" y=\"603.55432\" id=\"text3346\" xml:space=\"preserve\" style=\"font-size:22.50210381px;font-style:normal;font-variant:normal;font-weight:normal;font-stretch:normal;text-align:center;line-height:125%;writing-mode:lr-tb;text-anchor:middle;fill:#000000;fill-opacity:1;stroke:none;font-family:Bitstream Vera Sans\"><tspan x=\"199.28583\" y=\"603.55432\" id=\"tspan3348\">P</tspan></text></switch>\n",
       "      <switch style=\"font-size:22.50210381px;font-style:normal;font-variant:normal;font-weight:normal;font-stretch:normal;text-align:center;line-height:125%;writing-mode:lr-tb;text-anchor:middle;fill:#000000;fill-opacity:1;stroke:none;font-family:Bitstream Vera Sans\"><text x=\"111.67521\" y=\"527.99121\" id=\"text3350-ro\" xml:space=\"preserve\" style=\"font-size:22.50210381px;font-style:normal;font-variant:normal;font-weight:normal;font-stretch:normal;text-align:center;line-height:125%;writing-mode:lr-tb;text-anchor:middle;fill:#000000;fill-opacity:1;stroke:none;font-family:Bitstream Vera Sans\" systemLanguage=\"ro\"><tspan x=\"111.67521\" y=\"527.99121\" id=\"tspan3352-ro\">NP</tspan></text><text x=\"111.67521\" y=\"527.99121\" id=\"text3350\" xml:space=\"preserve\" style=\"font-size:22.50210381px;font-style:normal;font-variant:normal;font-weight:normal;font-stretch:normal;text-align:center;line-height:125%;writing-mode:lr-tb;text-anchor:middle;fill:#000000;fill-opacity:1;stroke:none;font-family:Bitstream Vera Sans\"><tspan x=\"111.67521\" y=\"527.99121\" id=\"tspan3352\">NP</tspan></text></switch>\n",
       "    </g>\n",
       "    <g id=\"eq-diag\">\n",
       "      <path d=\"m 284.25694,339.62939 a 168.29141,168.29141 0 1 1 -336.58283,0 168.29141,168.29141 0 1 1 336.58283,0 z\" transform=\"matrix(0.73561878,0,0,0.73561878,514.69358,269.45843)\" id=\"path3354\" style=\"fill:none;stroke:#000000;stroke-width:2.71879959;stroke-miterlimit:4;stroke-opacity:1;stroke-dasharray:none;stroke-dashoffset:0\"/>\n",
       "      <path d=\"m 440,244.09451 c 0,200 17.69912,399.49491 160,399.49491 142.30088,0 160,-199.49491 160,-399.49491\" id=\"path3360\" style=\"fill:none;stroke:#000000;stroke-width:1;stroke-linecap:butt;stroke-linejoin:miter;stroke-miterlimit:4;stroke-opacity:1;stroke-dasharray:none;stroke-dashoffset:0;marker-mid:none;marker-end:none\"/>\n",
       "      <switch style=\"font-size:22.50210381px;font-style:normal;font-variant:normal;font-weight:normal;font-stretch:normal;text-align:center;line-height:125%;writing-mode:lr-tb;text-anchor:middle;fill:#000000;fill-opacity:1;stroke:none;font-family:Bitstream Vera Sans\"><text x=\"599.9176\" y=\"333.73788\" id=\"text3362-ro\" xml:space=\"preserve\" style=\"font-size:22.50210381px;font-style:normal;font-variant:normal;font-weight:normal;font-stretch:normal;text-align:center;line-height:125%;writing-mode:lr-tb;text-anchor:middle;fill:#000000;fill-opacity:1;stroke:none;font-family:Bitstream Vera Sans\" systemLanguage=\"ro\"><tspan x=\"599.9176\" y=\"333.73788\" id=\"tspan3364-ro\">NP-tari</tspan></text><text x=\"599.9176\" y=\"333.73788\" id=\"text3362\" xml:space=\"preserve\" style=\"font-size:22.50210381px;font-style:normal;font-variant:normal;font-weight:normal;font-stretch:normal;text-align:center;line-height:125%;writing-mode:lr-tb;text-anchor:middle;fill:#000000;fill-opacity:1;stroke:none;font-family:Bitstream Vera Sans\"><tspan x=\"599.9176\" y=\"333.73788\" id=\"tspan3364\">NP-Hard</tspan></text></switch>\n",
       "      <switch style=\"font-size:22.50210381px;font-style:normal;font-variant:normal;font-weight:normal;font-stretch:normal;text-align:center;line-height:125%;writing-mode:lr-tb;text-anchor:middle;fill:#000000;fill-opacity:1;stroke:none;font-family:Bitstream Vera Sans\"><text x=\"599.49457\" y=\"511.09412\" id=\"text3372-ro\" xml:space=\"preserve\" style=\"font-size:22.50210381px;font-style:normal;font-variant:normal;font-weight:normal;font-stretch:normal;text-align:center;line-height:125%;writing-mode:lr-tb;text-anchor:middle;fill:#000000;fill-opacity:1;stroke:none;font-family:Bitstream Vera Sans\" systemLanguage=\"ro\"><tspan x=\"599.49457\" y=\"511.09412\" id=\"tspan3200-ro\">P = NP</tspan><tspan x=\"599.49457\" y=\"539.22174\" id=\"tspan3210-ro\">≃ NP-complete</tspan></text><text x=\"599.49457\" y=\"511.09412\" id=\"text3372\" xml:space=\"preserve\" style=\"font-size:22.50210381px;font-style:normal;font-variant:normal;font-weight:normal;font-stretch:normal;text-align:center;line-height:125%;writing-mode:lr-tb;text-anchor:middle;fill:#000000;fill-opacity:1;stroke:none;font-family:Bitstream Vera Sans\"><tspan x=\"599.49457\" y=\"511.09412\" id=\"tspan3200\">P = NP</tspan><tspan x=\"599.49457\" y=\"539.22174\" id=\"tspan3210\">≃ NP-Complete</tspan></text></switch>\n",
       "    </g>\n",
       "  </g>\n",
       "</svg>"
      ],
      "text/plain": [
       "<IPython.core.display.SVG object>"
      ]
     },
     "execution_count": 5,
     "metadata": {},
     "output_type": "execute_result"
    }
   ],
   "source": [
    "SVG(url='https://upload.wikimedia.org/wikipedia/commons/a/a0/P_np_np-complete_np-hard.svg')"
   ]
  }
 ],
 "metadata": {
  "kernelspec": {
   "display_name": "Python 3 (ipykernel)",
   "language": "python",
   "name": "python3"
  },
  "language_info": {
   "codemirror_mode": {
    "name": "ipython",
    "version": 3
   },
   "file_extension": ".py",
   "mimetype": "text/x-python",
   "name": "python",
   "nbconvert_exporter": "python",
   "pygments_lexer": "ipython3",
   "version": "3.10.13"
  },
  "toc": {
   "base_numbering": 1,
   "nav_menu": {},
   "number_sections": true,
   "sideBar": true,
   "skip_h1_title": false,
   "title_cell": "Table of Contents",
   "title_sidebar": "Contents",
   "toc_cell": false,
   "toc_position": {},
   "toc_section_display": true,
   "toc_window_display": false
  }
 },
 "nbformat": 4,
 "nbformat_minor": 5
}
