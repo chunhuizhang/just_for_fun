{
 "cells": [
  {
   "cell_type": "markdown",
   "id": "008bc557",
   "metadata": {},
   "source": [
    "## one hot encoding"
   ]
  },
  {
   "cell_type": "markdown",
   "id": "6ed97455",
   "metadata": {},
   "source": [
    "- one hot encoding：也是一种特殊的概率分布；\n",
    "    - 对于分类问题，概率化版本的特例，即某一个类别概率为1，其他为0；"
   ]
  },
  {
   "cell_type": "markdown",
   "id": "6393c5b5",
   "metadata": {},
   "source": [
    "## probability & sampling"
   ]
  },
  {
   "cell_type": "markdown",
   "id": "6ff6453c",
   "metadata": {},
   "source": [
    "$$\n",
    "P(x)=\\sum_hP(x|h)P(h)\n",
    "$$"
   ]
  },
  {
   "cell_type": "markdown",
   "id": "ddb75a0d",
   "metadata": {},
   "source": [
    "- sampling from $P(x)$ is equivalent to \n",
    "    - first sampling an $h$ from your prior \n",
    "    - and then conditioning on that information as if you had actually observed it. "
   ]
  }
 ],
 "metadata": {
  "kernelspec": {
   "display_name": "Python 3 (ipykernel)",
   "language": "python",
   "name": "python3"
  },
  "language_info": {
   "codemirror_mode": {
    "name": "ipython",
    "version": 3
   },
   "file_extension": ".py",
   "mimetype": "text/x-python",
   "name": "python",
   "nbconvert_exporter": "python",
   "pygments_lexer": "ipython3",
   "version": "3.10.13"
  },
  "toc": {
   "base_numbering": 1,
   "nav_menu": {},
   "number_sections": true,
   "sideBar": true,
   "skip_h1_title": false,
   "title_cell": "Table of Contents",
   "title_sidebar": "Contents",
   "toc_cell": false,
   "toc_position": {},
   "toc_section_display": true,
   "toc_window_display": false
  }
 },
 "nbformat": 4,
 "nbformat_minor": 5
}
