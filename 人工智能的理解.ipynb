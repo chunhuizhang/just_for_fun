{
 "cells": [
  {
   "cell_type": "code",
   "execution_count": 1,
   "id": "8fb8b5c6",
   "metadata": {
    "ExecuteTime": {
     "end_time": "2023-12-12T13:28:08.084565Z",
     "start_time": "2023-12-12T13:28:08.071398Z"
    }
   },
   "outputs": [],
   "source": [
    "from IPython.display import Image"
   ]
  },
  {
   "cell_type": "markdown",
   "id": "d66293e7",
   "metadata": {},
   "source": [
    "## Tensor：人工智能第一编程数据结构"
   ]
  },
  {
   "cell_type": "markdown",
   "id": "33213f82",
   "metadata": {},
   "source": [
    "- 张量，来源于 tension（物理学中的“张力”）\n",
    "    - 高维结构化数据；"
   ]
  },
  {
   "cell_type": "markdown",
   "id": "7df637e8",
   "metadata": {},
   "source": [
    "## 机器学习 learning 的理解"
   ]
  },
  {
   "cell_type": "markdown",
   "id": "f32e457d",
   "metadata": {},
   "source": [
    "- 不同的问题基于 validate metrics，也可以有学习 learning 的快慢\n",
    "    - learning 越快，说明问题越简单，或者说存在容易被快速发现的 shortcut；"
   ]
  },
  {
   "cell_type": "markdown",
   "id": "78f7c17c",
   "metadata": {},
   "source": [
    "- 监督学习，半监督/自监督学习；\n",
    "    - 监督学习，expensive（体现在标注上），而且很容易过拟合；\n",
    "    - 半监督和自监督，更general，因为很 cheap，很容易scale up\n",
    "- 强化学习的理解\n",
    "    - MDP 其实是一种无记忆性；当一个环境或者交互依赖历史 state，action 的时候就不再是无记忆的"
   ]
  },
  {
   "cell_type": "markdown",
   "id": "d9096e72",
   "metadata": {},
   "source": [
    "## NLP"
   ]
  },
  {
   "cell_type": "markdown",
   "id": "4fc19cb8",
   "metadata": {},
   "source": [
    "- NLP 问题的特点：非结构化的文本数据；"
   ]
  },
  {
   "cell_type": "code",
   "execution_count": 3,
   "id": "82ade6ab",
   "metadata": {
    "ExecuteTime": {
     "end_time": "2023-12-12T13:28:22.008997Z",
     "start_time": "2023-12-12T13:28:21.999345Z"
    }
   },
   "outputs": [
    {
     "data": {
      "text/html": [
       "<img src=\"https://devopedia.org/images/article/187/2248.1560446244.png\"/>"
      ],
      "text/plain": [
       "<IPython.core.display.Image object>"
      ]
     },
     "execution_count": 3,
     "metadata": {},
     "output_type": "execute_result"
    }
   ],
   "source": [
    "# https://devopedia.org/natural-language-processing\n",
    "Image(url='https://devopedia.org/images/article/187/2248.1560446244.png')"
   ]
  }
 ],
 "metadata": {
  "kernelspec": {
   "display_name": "Python 3 (ipykernel)",
   "language": "python",
   "name": "python3"
  },
  "language_info": {
   "codemirror_mode": {
    "name": "ipython",
    "version": 3
   },
   "file_extension": ".py",
   "mimetype": "text/x-python",
   "name": "python",
   "nbconvert_exporter": "python",
   "pygments_lexer": "ipython3",
   "version": "3.10.13"
  },
  "toc": {
   "base_numbering": 1,
   "nav_menu": {},
   "number_sections": true,
   "sideBar": true,
   "skip_h1_title": false,
   "title_cell": "Table of Contents",
   "title_sidebar": "Contents",
   "toc_cell": false,
   "toc_position": {},
   "toc_section_display": true,
   "toc_window_display": false
  }
 },
 "nbformat": 4,
 "nbformat_minor": 5
}
