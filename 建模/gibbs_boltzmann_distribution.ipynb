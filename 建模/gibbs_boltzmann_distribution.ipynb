{
 "cells": [
  {
   "cell_type": "markdown",
   "id": "8e6eb036",
   "metadata": {},
   "source": [
    "https://en.wikipedia.org/wiki/Boltzmann_distribution"
   ]
  },
  {
   "cell_type": "markdown",
   "id": "49eed30a",
   "metadata": {},
   "source": [
    "$$\n",
    "p(x)\\propto\\exp(-\\alpha x)\n",
    "$$"
   ]
  },
  {
   "cell_type": "markdown",
   "id": "a62c8790",
   "metadata": {},
   "source": [
    "\n",
    "- Gibbs distribution/Boltzmann's distribution\n",
    "- 是一种指数分布\n",
    "\n",
    "    $$\n",
    "    p(x)=\\lambda\\exp(-\\lambda x))\n",
    "    $$\n",
    "    - The distribution shows that states with lower energy will always have a higher probability of being occupied.\n",
    "    \n",
    "- The Boltzmann distribution is a probability distribution that gives the probability of a certain state as a function of that state's energy and temperature of the system to which the distribution is applied."
   ]
  }
 ],
 "metadata": {
  "kernelspec": {
   "display_name": "Python 3 (ipykernel)",
   "language": "python",
   "name": "python3"
  },
  "language_info": {
   "codemirror_mode": {
    "name": "ipython",
    "version": 3
   },
   "file_extension": ".py",
   "mimetype": "text/x-python",
   "name": "python",
   "nbconvert_exporter": "python",
   "pygments_lexer": "ipython3",
   "version": "3.10.13"
  },
  "toc": {
   "base_numbering": 1,
   "nav_menu": {},
   "number_sections": true,
   "sideBar": true,
   "skip_h1_title": false,
   "title_cell": "Table of Contents",
   "title_sidebar": "Contents",
   "toc_cell": false,
   "toc_position": {},
   "toc_section_display": true,
   "toc_window_display": false
  }
 },
 "nbformat": 4,
 "nbformat_minor": 5
}
