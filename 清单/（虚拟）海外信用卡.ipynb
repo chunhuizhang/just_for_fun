{
 "cells": [
  {
   "cell_type": "markdown",
   "id": "cad38120",
   "metadata": {},
   "source": [
    "- blog & 学习资料\n",
    "    - medium.com"
   ]
  },
  {
   "cell_type": "markdown",
   "id": "7423abdb",
   "metadata": {},
   "source": [
    "- tools\n",
    "    - 苹果 ios 切美区之后\n",
    "        - 下载小火箭（2.99$）shadowrocket"
   ]
  },
  {
   "cell_type": "markdown",
   "id": "e633d76a",
   "metadata": {},
   "source": [
    "- 软件及服务\n",
    "    - OpenAI：chatgpt\n",
    "    - github copilot\n",
    "        - 1205, 支持整个 `@workspace` 的导入；\n",
    "    - midjourney"
   ]
  }
 ],
 "metadata": {
  "kernelspec": {
   "display_name": "Python 3 (ipykernel)",
   "language": "python",
   "name": "python3"
  },
  "language_info": {
   "codemirror_mode": {
    "name": "ipython",
    "version": 3
   },
   "file_extension": ".py",
   "mimetype": "text/x-python",
   "name": "python",
   "nbconvert_exporter": "python",
   "pygments_lexer": "ipython3",
   "version": "3.10.13"
  },
  "toc": {
   "base_numbering": 1,
   "nav_menu": {},
   "number_sections": true,
   "sideBar": true,
   "skip_h1_title": false,
   "title_cell": "Table of Contents",
   "title_sidebar": "Contents",
   "toc_cell": false,
   "toc_position": {},
   "toc_section_display": true,
   "toc_window_display": false
  }
 },
 "nbformat": 4,
 "nbformat_minor": 5
}
