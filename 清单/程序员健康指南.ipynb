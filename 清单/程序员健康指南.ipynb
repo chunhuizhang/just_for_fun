{
 "cells": [
  {
   "cell_type": "markdown",
   "id": "c078341c",
   "metadata": {},
   "source": [
    "- 保护好眼睛；\n",
    "    - 防蓝光眼镜，\n",
    "    - 常滴眼药水；"
   ]
  },
  {
   "cell_type": "markdown",
   "id": "5d9cc082",
   "metadata": {},
   "source": [
    "- 尽量少地加班熬夜；\n",
    "    - 聚焦工作，提升效率；"
   ]
  }
 ],
 "metadata": {
  "kernelspec": {
   "display_name": "Python 3 (ipykernel)",
   "language": "python",
   "name": "python3"
  },
  "language_info": {
   "codemirror_mode": {
    "name": "ipython",
    "version": 3
   },
   "file_extension": ".py",
   "mimetype": "text/x-python",
   "name": "python",
   "nbconvert_exporter": "python",
   "pygments_lexer": "ipython3",
   "version": "3.10.9"
  },
  "toc": {
   "base_numbering": 1,
   "nav_menu": {},
   "number_sections": true,
   "sideBar": true,
   "skip_h1_title": false,
   "title_cell": "Table of Contents",
   "title_sidebar": "Contents",
   "toc_cell": false,
   "toc_position": {},
   "toc_section_display": true,
   "toc_window_display": false
  }
 },
 "nbformat": 4,
 "nbformat_minor": 5
}
