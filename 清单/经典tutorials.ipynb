{
 "cells": [
  {
   "cell_type": "markdown",
   "id": "8638957d",
   "metadata": {},
   "source": [
    "- 强化学习\n",
    "    - https://gibberblot.github.io/rl-notes/intro.html\n",
    "    - https://github.com/huggingface/deep-rl-class/tree/main\n",
    "- transformers（Huggingface）\n",
    "    - https://github.com/nlp-with-transformers\n",
    "- diffusion\n",
    "    - https://github.com/huggingface/diffusion-models-class"
   ]
  }
 ],
 "metadata": {
  "kernelspec": {
   "display_name": "Python 3 (ipykernel)",
   "language": "python",
   "name": "python3"
  },
  "language_info": {
   "codemirror_mode": {
    "name": "ipython",
    "version": 3
   },
   "file_extension": ".py",
   "mimetype": "text/x-python",
   "name": "python",
   "nbconvert_exporter": "python",
   "pygments_lexer": "ipython3",
   "version": "3.10.13"
  },
  "toc": {
   "base_numbering": 1,
   "nav_menu": {},
   "number_sections": true,
   "sideBar": true,
   "skip_h1_title": false,
   "title_cell": "Table of Contents",
   "title_sidebar": "Contents",
   "toc_cell": false,
   "toc_position": {},
   "toc_section_display": true,
   "toc_window_display": false
  }
 },
 "nbformat": 4,
 "nbformat_minor": 5
}
